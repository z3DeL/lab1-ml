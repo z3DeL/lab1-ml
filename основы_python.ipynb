{
  "nbformat": 4,
  "nbformat_minor": 0,
  "metadata": {
    "colab": {
      "provenance": []
    },
    "kernelspec": {
      "name": "python3",
      "display_name": "Python 3"
    },
    "language_info": {
      "name": "python"
    }
  },
  "cells": [
    {
      "cell_type": "markdown",
      "source": [
        "#Задача 1\n",
        "Написать функцию на вход которой подается строка, состоящая из латинских букв.\n",
        "Функция должна вернуть количество гласных букв (a, e, i, o, u) в этой строке. Написать тесты для кода"
      ],
      "metadata": {
        "id": "M-DGa20PaHnu"
      }
    },
    {
      "cell_type": "code",
      "source": [
        "def task1(string):\n",
        "   glasn = ['a','e','i','o','u']\n",
        "   total = 0\n",
        "   for symbol in string:\n",
        "      if symbol in glasn:\n",
        "         total += 1\n",
        "   return total\n",
        "print(task1(\"abcdefgh\"))\n",
        "print(task1(\"\"))\n",
        "print(task1(\"aeioubaiou\"))"
      ],
      "metadata": {
        "id": "XvX8X_JJ6PCb",
        "colab": {
          "base_uri": "https://localhost:8080/"
        },
        "outputId": "9dec0ce3-3d90-46ab-8fc7-e496553768b3"
      },
      "execution_count": null,
      "outputs": [
        {
          "output_type": "stream",
          "name": "stdout",
          "text": [
            "2\n",
            "0\n",
            "9\n"
          ]
        }
      ]
    },
    {
      "cell_type": "markdown",
      "source": [
        "# Задача 2\n",
        "Написать функцию на вход, которой подается строка. Функция должна вернуть true, если\n",
        "каждый символ в строке встречается только 1 раз, иначе должна вернуть false. Написать тесты для кода"
      ],
      "metadata": {
        "id": "t2ClV_Y0bbr6"
      }
    },
    {
      "cell_type": "code",
      "source": [
        "def task2(string):\n",
        "  for current_symbol in string:\n",
        "    count = 0\n",
        "    for symbol in string:\n",
        "      if current_symbol == symbol:\n",
        "        count +=1\n",
        "    if count > 1 :\n",
        "      return False\n",
        "  return True\n",
        "\n",
        "print(task2(\"abcdefgh\"))\n",
        "print(task2(\"\"))\n",
        "print(task2(\"aeioubaiou\"))"
      ],
      "metadata": {
        "id": "FppbECao6VIz",
        "colab": {
          "base_uri": "https://localhost:8080/"
        },
        "outputId": "1898ddb5-b55b-4601-af96-968ee277d7fd"
      },
      "execution_count": null,
      "outputs": [
        {
          "output_type": "stream",
          "name": "stdout",
          "text": [
            "True\n",
            "True\n",
            "False\n"
          ]
        }
      ]
    },
    {
      "cell_type": "markdown",
      "source": [
        "# Задача 3\n",
        "Написать функцию, которая принимает положительное число и возвращает количество\n",
        "бит равных 1 в этом числе. Написать тесты для кода"
      ],
      "metadata": {
        "id": "udRiIK1cdt6E"
      }
    },
    {
      "cell_type": "code",
      "source": [
        "def task3(x):\n",
        "  s = 0\n",
        "  while x > 0:\n",
        "    s = s + x % 2\n",
        "    x = x // 2\n",
        "  return s\n",
        "\n",
        "print(task3(0))\n",
        "print(task3(3))\n",
        "print(task3(7))"
      ],
      "metadata": {
        "id": "6tkfDJRz6dp_",
        "colab": {
          "base_uri": "https://localhost:8080/"
        },
        "outputId": "7f61cebd-527f-43ba-c031-d16529616c9c"
      },
      "execution_count": null,
      "outputs": [
        {
          "output_type": "stream",
          "name": "stdout",
          "text": [
            "0\n",
            "2\n",
            "3\n"
          ]
        }
      ]
    },
    {
      "cell_type": "markdown",
      "source": [
        "# Задача 4\n",
        "Написать функцию, которая принимает положительное число. Функция должна вернуть то,\n",
        "сколько раз необходимо перемножать цифры числа или результат перемножения, чтобы\n",
        "получилось число состоящее из одной цифры.\n",
        "Например, для входного числа:\n",
        "· 39 функция должна вернуть 3, так как 3*9=27 => 2*7=14 => 1*4=4\n",
        "· 4 функция должна вернуть 0, так как число уже состоит из одной цифры\n",
        "· 999 функция должна вернуть 4, так как 9*9*9=729 => 7*2*9=126 => 1*2*6=12 =>\n",
        "1*2=2. Написать тесты для кода"
      ],
      "metadata": {
        "id": "26dDUz-Ae17N"
      }
    },
    {
      "cell_type": "code",
      "source": [
        "def magic(n):\n",
        "  if n < 10:\n",
        "    return 0\n",
        "  else:\n",
        "    return 1 + magic(multiply_digit(n))\n",
        "\n",
        "def multiply_digit(n):\n",
        "  mult = 1\n",
        "  while n > 0:\n",
        "    digit = n % 10\n",
        "    mult = mult * digit\n",
        "    n = n // 10\n",
        "  return mult\n",
        "\n",
        "print(magic(39))\n",
        "\n",
        "print(magic(4))\n",
        "\n",
        "print(magic(999))"
      ],
      "metadata": {
        "id": "BH1A_Mgi6i4G",
        "colab": {
          "base_uri": "https://localhost:8080/"
        },
        "outputId": "dc420a99-7c8a-4c9e-d2d8-047727125287"
      },
      "execution_count": null,
      "outputs": [
        {
          "output_type": "stream",
          "name": "stdout",
          "text": [
            "3\n",
            "0\n",
            "4\n"
          ]
        }
      ]
    },
    {
      "cell_type": "markdown",
      "source": [
        "# Задача 5\n",
        "Написать функцию, которая принимает два целочисленных вектора одинаковой длины и\n",
        "возвращает среднеквадратическое отклонение двух векторов. Написать тесты для кода"
      ],
      "metadata": {
        "id": "0nS-kIa8g8vd"
      }
    },
    {
      "cell_type": "code",
      "source": [
        "def mse(pred, true):\n",
        "  square = 0\n",
        "  for i in range(len(pred)):\n",
        "    square += (pred[i] - true[i]) ** 2\n",
        "  return square/len(pred)\n",
        "\n",
        "mse([5,41,70,77,6],[23,35,55,60,1])"
      ],
      "metadata": {
        "id": "8iphx4LM6xbx",
        "colab": {
          "base_uri": "https://localhost:8080/"
        },
        "outputId": "496a0590-7352-448d-928e-1d375bd7b545"
      },
      "execution_count": null,
      "outputs": [
        {
          "output_type": "execute_result",
          "data": {
            "text/plain": [
              "179.8"
            ]
          },
          "metadata": {},
          "execution_count": 1
        }
      ]
    },
    {
      "cell_type": "markdown",
      "source": [
        "# Задача 6\n",
        "Написать функцию, принимающая целое положительное число. Функция должна вернуть\n",
        "строку вида “(n1**p1)(n2**p2)…(nk**pk)” представляющая разложение числа на простые\n",
        "множители (если pi == 1, то выводить только ni).\n",
        "Например, для числа 86240 функция должна вернуть “(2**5)(5)(7**2)(11)”. Написать тесты для кода"
      ],
      "metadata": {
        "id": "vpIPKL439zkw"
      }
    },
    {
      "cell_type": "code",
      "source": [
        "import math\n",
        "\n",
        "def razl(n):\n",
        "  factor = []\n",
        "  for i in range(2, int(math.sqrt(n)) + 1):\n",
        "    if(n%i==0):\n",
        "        cnt = 0\n",
        "        while (n % i == 0):\n",
        "            n //= i\n",
        "            cnt+=1\n",
        "        factor.append((i, cnt))\n",
        "  if (n != 1): factor.append((n, 1))\n",
        "  return('('+ ')('.join(['%d**%d' % i if i[1]>1 else str(i[0]) for i in factor]) + ')')\n",
        "\n",
        "print(razl(86240))"
      ],
      "metadata": {
        "id": "pFebmcZk94Jw",
        "colab": {
          "base_uri": "https://localhost:8080/"
        },
        "outputId": "95aae339-604e-430f-ca16-60cb8617b291"
      },
      "execution_count": null,
      "outputs": [
        {
          "output_type": "stream",
          "name": "stdout",
          "text": [
            "(2**5)(5)(7**2)(11)\n"
          ]
        }
      ]
    },
    {
      "cell_type": "markdown",
      "source": [
        "# Задача 7\n",
        "Написать функцию, принимающая целое число n, задающее количество кубиков. Функция\n",
        "должна определить, можно ли из данного кол-ва кубиков построить пирамиду, то есть\n",
        "можно ли представить число n как 1^2+2^2+3^2+…+k^2. Если можно, то функция должна\n",
        "вернуть k, иначе строку “It is impossible”. Написать тесты для кода"
      ],
      "metadata": {
        "id": "ps2s0BudX7A2"
      }
    },
    {
      "cell_type": "code",
      "source": [
        "def pyramid(n):\n",
        "    k = 0\n",
        "    sum = 0\n",
        "    while sum <= n:\n",
        "      if sum == n:\n",
        "        return k\n",
        "      k +=1\n",
        "      sum += k **2\n",
        "    return \"it is impossible\"\n",
        "\n",
        "print(pyramid(123))\n",
        "print(pyramid(14))"
      ],
      "metadata": {
        "id": "3YPjEXxhX_YT",
        "colab": {
          "base_uri": "https://localhost:8080/"
        },
        "outputId": "fc7c0251-8605-4a44-c5c4-5ec5d79a435d"
      },
      "execution_count": null,
      "outputs": [
        {
          "output_type": "stream",
          "name": "stdout",
          "text": [
            "it is impossible\n",
            "3\n"
          ]
        }
      ]
    },
    {
      "cell_type": "markdown",
      "source": [
        "# Задача 8\n",
        "Функция принимает на вход положительное число и определяет является ли оно сбалансированным, т.е. сумма цифр до средних равна сумме цифр после. Средними в случае нечетного числа цифр считать одну цифру, в случае четного - две средних. Написать тесты для кода"
      ],
      "metadata": {
        "id": "KeKgmIdAQMEJ"
      }
    },
    {
      "cell_type": "code",
      "source": [
        "def balance(n):\n",
        "  str_n = str(n)\n",
        "  len_n = len(str_n)\n",
        "  sum_left = 0\n",
        "  sum_right = 0\n",
        "  if len_n % 2 == 0:\n",
        "    center = len_n // 2 - 1\n",
        "  else:\n",
        "    center = len_n // 2\n",
        "  for i in range (center):\n",
        "    sum_left += int(str_n[i])\n",
        "    sum_right += int(str_n[len_n -1 - i])\n",
        "  if sum_left == sum_right:\n",
        "    return True\n",
        "  else:\n",
        "    return False\n",
        "\n",
        "print(balance(13522))\n",
        "print(balance(152360))\n",
        "print(balance(152361))"
      ],
      "metadata": {
        "id": "gMAAqtqlQrZt",
        "colab": {
          "base_uri": "https://localhost:8080/"
        },
        "outputId": "03f6aed6-35a2-458d-a495-ca2efe47001e"
      },
      "execution_count": null,
      "outputs": [
        {
          "output_type": "stream",
          "name": "stdout",
          "text": [
            "True\n",
            "True\n",
            "False\n"
          ]
        }
      ]
    }
  ]
}